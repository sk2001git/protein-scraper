{
 "cells": [
  {
   "cell_type": "code",
   "execution_count": 4,
   "metadata": {},
   "outputs": [
    {
     "name": "stdout",
     "output_type": "stream",
     "text": [
      "https://example.com/sports-nutrition/clear-whey-protein-powder/12081395.html\n",
      "https://example.com/sports-nutrition/pea-protein-isolate/10530136.html\n",
      "https://example.com/sports-nutrition/the-whey-sample/12968640.html\n",
      "https://example.com/sports-nutrition/impact-casein-powder/10798909.html\n",
      "https://example.com/sports-nutrition/all-in-one-recovery/10530268.html\n",
      "https://example.com/sports-nutrition/impact-whey-protein-powder/10530943.html\n",
      "https://example.com/sports-nutrition/soy-protein-isolate/10529701.html\n",
      "https://example.com/sports-nutrition/clear-vegan-protein/12360400.html\n",
      "https://example.com/sports-nutrition/vegan-protein-blend/11776868.html\n",
      "https://example.com/sports-nutrition/clear-whey-diet/13125562.html\n",
      "https://example.com/sports-nutrition/clear-weight-gainer/13096868.html\n",
      "https://example.com/sports-nutrition/hydrolysed-whey-protein-powder/10529805.html\n",
      "https://example.com/sports-nutrition/breakfast-smoothie/13251950.html\n",
      "https://example.com/sports-nutrition/clear-collagen-protein-powder/12865492.html\n",
      "https://example.com/sports-nutrition/protein-hot-chocolate/10926373.html\n",
      "https://example.com/sports-nutrition/impact-whey-isolate-powder/10530911.html\n",
      "https://example.com/sports-nutrition/impact-weight-gainer/10529988.html\n",
      "https://example.com/sports-nutrition/clear-whey-protein-vimto/13490642.html\n",
      "https://example.com/sports-nutrition/clear-vegan-protein-sample/12360405.html\n",
      "https://example.com/sports-nutrition/total-protein-blend/10529951.html\n",
      "https://example.com/sports-nutrition/clear-whey-hydrate/12869895.html\n",
      "https://example.com/sports-nutrition/impact-diet-whey/10530657.html\n",
      "https://example.com/sports-nutrition/the-diet/11350864.html\n",
      "https://example.com/sports-nutrition/protein-meal-replacement-blend/11324199.html\n",
      "https://example.com/sports-nutrition/impact-whey-protein/10530943.html\n",
      "https://example.com/sports-nutrition/clear-whey-protein-sample/12081401.html\n",
      "https://example.com/sports-nutrition/impact-eaa/11985042.html\n",
      "https://example.com/sports-nutrition/clear-protein-superblend/14843629.html\n",
      "https://example.com/sports-nutrition/collagen-protein/11067704.html\n",
      "https://example.com/sports-nutrition/plant-protein-superblend/13972449.html\n",
      "https://example.com/sports-nutrition/weight-gainer-blend/10529988.html\n",
      "https://example.com/sports-nutrition/the-whey/11353515.html\n",
      "https://example.com/sports-nutrition/collagen-protein-powder/11067704.html\n",
      "https://example.com/sports-nutrition/pea-protein-isolate-sample/12270213.html\n",
      "34\n"
     ]
    }
   ],
   "source": [
    "import json\n",
    "import re\n",
    "\n",
    "# Load JSON content\n",
    "with open('results.json', 'r') as file:\n",
    "    data = json.load(file)\n",
    "\n",
    "# Initialize base URL and a list to store the extracted URLs\n",
    "base_url = 'example.com'\n",
    "product_urls = []\n",
    "\n",
    "def extract_product_urls(content, base_url=\"https://example.com\"):\n",
    "    pattern = re.compile(r'\\((\\/[^)]+\\.html)\\)')\n",
    "    matches = pattern.findall(content)\n",
    "    return [base_url + match for match in matches]\n",
    "# Extract URLs from the content\n",
    "urls = []\n",
    "for entry in data:\n",
    "    content = entry.get(\"content\", \"\")\n",
    "    urls.extend(extract_product_urls(content))\n",
    "\n",
    "# Remove duplicates\n",
    "urls = list(set(urls))\n",
    "\n",
    "# Print the extracted URLs\n",
    "for url in urls:\n",
    "    print(url)\n",
    "print(len(urls))"
   ]
  }
 ],
 "metadata": {
  "kernelspec": {
   "display_name": "base",
   "language": "python",
   "name": "python3"
  },
  "language_info": {
   "codemirror_mode": {
    "name": "ipython",
    "version": 3
   },
   "file_extension": ".py",
   "mimetype": "text/x-python",
   "name": "python",
   "nbconvert_exporter": "python",
   "pygments_lexer": "ipython3",
   "version": "3.11.5"
  }
 },
 "nbformat": 4,
 "nbformat_minor": 2
}
